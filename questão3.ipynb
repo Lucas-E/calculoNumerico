{
 "cells": [
  {
   "cell_type": "markdown",
   "id": "7ec50e72-9db9-4716-8cf9-8ee23cd76125",
   "metadata": {},
   "source": [
    "# Questão 3"
   ]
  },
  {
   "cell_type": "code",
   "execution_count": null,
   "id": "c60f5435-2946-4ba4-94ef-92c5326b9893",
   "metadata": {},
   "outputs": [],
   "source": [
    "import pandas as pd\n",
    "import numpy as np\n",
    "import seaborn as sns\n",
    "import matplotlib.pyplot as plt\n",
    "import math"
   ]
  },
  {
   "cell_type": "markdown",
   "id": "fd49c109-eff6-4eb4-9321-d9280f69c599",
   "metadata": {},
   "source": [
    "# Realize a regressão linear para o seguinte problema: Peso corporal dos cordeiros tem relação com o peso do Rendimento em carne no animal, aos 4 meses de idade, de 10 cordeiros da raça Hampshire Down renderam respectivamente:"
   ]
  },
  {
   "cell_type": "code",
   "execution_count": 191,
   "id": "7dbe45ff-da3d-42de-98b9-c15523902107",
   "metadata": {},
   "outputs": [],
   "source": [
    "tabela = np.array([\n",
    "    [49, 24],\n",
    "    [65, 40],\n",
    "    [45, 25],\n",
    "    [40, 23.5],\n",
    "    [55, 33.5],\n",
    "    [45,22],\n",
    "    [44,22.5],\n",
    "    [47, 23.5],\n",
    "    [50, 25],\n",
    "    [56,35]\n",
    "])\n",
    "df = pd.DataFrame(tabela, columns = ['Peso', 'Rend. Carcaça'])"
   ]
  },
  {
   "cell_type": "code",
   "execution_count": 192,
   "id": "1877b1ca-bd48-4bed-91d3-d38fc136a7bc",
   "metadata": {},
   "outputs": [
    {
     "data": {
      "text/html": [
       "<div>\n",
       "<style scoped>\n",
       "    .dataframe tbody tr th:only-of-type {\n",
       "        vertical-align: middle;\n",
       "    }\n",
       "\n",
       "    .dataframe tbody tr th {\n",
       "        vertical-align: top;\n",
       "    }\n",
       "\n",
       "    .dataframe thead th {\n",
       "        text-align: right;\n",
       "    }\n",
       "</style>\n",
       "<table border=\"1\" class=\"dataframe\">\n",
       "  <thead>\n",
       "    <tr style=\"text-align: right;\">\n",
       "      <th></th>\n",
       "      <th>Peso</th>\n",
       "      <th>Rend. Carcaça</th>\n",
       "    </tr>\n",
       "  </thead>\n",
       "  <tbody>\n",
       "    <tr>\n",
       "      <th>0</th>\n",
       "      <td>49.0</td>\n",
       "      <td>24.0</td>\n",
       "    </tr>\n",
       "    <tr>\n",
       "      <th>1</th>\n",
       "      <td>65.0</td>\n",
       "      <td>40.0</td>\n",
       "    </tr>\n",
       "    <tr>\n",
       "      <th>2</th>\n",
       "      <td>45.0</td>\n",
       "      <td>25.0</td>\n",
       "    </tr>\n",
       "    <tr>\n",
       "      <th>3</th>\n",
       "      <td>40.0</td>\n",
       "      <td>23.5</td>\n",
       "    </tr>\n",
       "    <tr>\n",
       "      <th>4</th>\n",
       "      <td>55.0</td>\n",
       "      <td>33.5</td>\n",
       "    </tr>\n",
       "    <tr>\n",
       "      <th>5</th>\n",
       "      <td>45.0</td>\n",
       "      <td>22.0</td>\n",
       "    </tr>\n",
       "    <tr>\n",
       "      <th>6</th>\n",
       "      <td>44.0</td>\n",
       "      <td>22.5</td>\n",
       "    </tr>\n",
       "    <tr>\n",
       "      <th>7</th>\n",
       "      <td>47.0</td>\n",
       "      <td>23.5</td>\n",
       "    </tr>\n",
       "    <tr>\n",
       "      <th>8</th>\n",
       "      <td>50.0</td>\n",
       "      <td>25.0</td>\n",
       "    </tr>\n",
       "    <tr>\n",
       "      <th>9</th>\n",
       "      <td>56.0</td>\n",
       "      <td>35.0</td>\n",
       "    </tr>\n",
       "  </tbody>\n",
       "</table>\n",
       "</div>"
      ],
      "text/plain": [
       "   Peso  Rend. Carcaça\n",
       "0  49.0           24.0\n",
       "1  65.0           40.0\n",
       "2  45.0           25.0\n",
       "3  40.0           23.5\n",
       "4  55.0           33.5\n",
       "5  45.0           22.0\n",
       "6  44.0           22.5\n",
       "7  47.0           23.5\n",
       "8  50.0           25.0\n",
       "9  56.0           35.0"
      ]
     },
     "execution_count": 192,
     "metadata": {},
     "output_type": "execute_result"
    }
   ],
   "source": [
    "df"
   ]
  },
  {
   "cell_type": "markdown",
   "id": "992f5e5a-27dd-4ef5-a774-4bc1d70a1c7f",
   "metadata": {},
   "source": [
    "## a) Esboce o gráfico dos dados e tente chutar se a relação é crescente ou decrescente. Os dados estão formando aproximadamente uma reta?"
   ]
  },
  {
   "cell_type": "code",
   "execution_count": 193,
   "id": "c9577dda-168f-495c-b763-4f1d525e9caa",
   "metadata": {},
   "outputs": [],
   "source": [
    "x = np.array(df.loc[:, 'Peso'])\n",
    "y = np.array(df.loc[:, 'Rend. Carcaça'])"
   ]
  },
  {
   "cell_type": "code",
   "execution_count": 194,
   "id": "487f8f5d-6d71-4b9b-b595-06fd5328b664",
   "metadata": {},
   "outputs": [
    {
     "data": {
      "text/plain": [
       "<AxesSubplot: >"
      ]
     },
     "execution_count": 194,
     "metadata": {},
     "output_type": "execute_result"
    },
    {
     "data": {
      "image/png": "[encoded data removed]",
      "text/plain": [
       "<Figure size 640x480 with 1 Axes>"
      ]
     },
     "metadata": {},
     "output_type": "display_data"
    }
   ],
   "source": [
    "sns.scatterplot(x=x, y=y)"
   ]
  },
  {
   "cell_type": "markdown",
   "id": "fec5e300-f13a-46f9-9424-57366997f9c9",
   "metadata": {},
   "source": [
    "Percebe-se que mesmo um pouco distantes, fica clara a relação crescente. Além disto, os dados não formam claramente uma reta, pois se dispersam.\n",
    "\n",
    "Sabemos que para utilizar os metodos iterativos de resolucao de sistemas, ele deve ser quadrado, e para ter resposta, todos os dados devem estar alinhados perfeitamente em uma reta, o que nao acontece neste caso, entao, utilizaremos regressao linear.\n",
    "A regressão linear tem como objetivo desenvolver uma função linear que passe o mais próximo possível dos pontos, sem necessariamente interpolá-los.\n",
    "\n",
    "Logo, a regressão linear busca uma resposta da seguinte forma: $f(x)=ax+b$ para os pontos dados.\n",
    "\n",
    "Pela definição do livro que tomamos como base, nos livrando dos rigores da demonstração, segue o cálculo que deve ser feito para que, utilizando as formas matriciais, cheguemos ao resultado do coeficiente a e b:\n",
    "\n",
    "# $$a = (V^{T}V)^{-1}V^{T}y$$\n",
    "\n",
    "\n",
    "Onde $V$ é a matriz dos coeficientes de $a$ e $b$, e $y$ é a matriz dos resultados."
   ]
  },
  {
   "cell_type": "markdown",
   "id": "6478701c-98f5-42a4-8d92-0be0aadddc4e",
   "metadata": {},
   "source": [
    "A partir disso, será desenvolvida a função mais geral da regressão linear:"
   ]
  },
  {
   "cell_type": "code",
   "execution_count": 195,
   "id": "d0428c6e-402d-4ac8-8008-faca2ad8cc3a",
   "metadata": {},
   "outputs": [],
   "source": [
    "def regressao_linear(arr_coeficientes, arr_resultados):\n",
    "    a = arr_coeficientes\n",
    "    b = arr_resultados\n",
    "    \n",
    "    result = np.matmul(np.matmul(np.linalg.inv((np.matmul(a.T,a))),a.T), b)\n",
    "    return result"
   ]
  },
  {
   "cell_type": "code",
   "execution_count": 196,
   "id": "3e38fcc9-5389-4d9e-a9c9-0ad581ca0018",
   "metadata": {},
   "outputs": [],
   "source": [
    "coeficientes = []\n",
    "for i in range(10):\n",
    "    coeficientes.append([1,x[i]])\n",
    "\n",
    "coeficientes = np.array(coeficientes)\n",
    "\n",
    "resultado = np.copy(y).reshape(10,1)\n",
    "\n",
    "cof = regressao_linear(coeficientes, resultado)\n"
   ]
  },
  {
   "cell_type": "code",
   "execution_count": 197,
   "id": "a7d00b16-6ad1-4ea8-943c-abc0ddf19f5f",
   "metadata": {},
   "outputs": [
    {
     "data": {
      "text/plain": [
       "array([[-12.61865112],\n",
       "       [  0.80682764]])"
      ]
     },
     "execution_count": 197,
     "metadata": {},
     "output_type": "execute_result"
    }
   ],
   "source": [
    "cof"
   ]
  },
  {
   "cell_type": "markdown",
   "id": "76d1a7d9-132a-4fe5-8c7b-45d0cf683c09",
   "metadata": {},
   "source": [
    "## Percebemos, então, que pela regressão linear, o coeficiente $a=0.8068$ e o coeficiente $b=-12.6186$"
   ]
  },
  {
   "cell_type": "markdown",
   "id": "15ffa694-8549-45dc-a4a1-1e0bd1b90905",
   "metadata": {},
   "source": [
    "Agora, fazendo o gráfico:"
   ]
  },
  {
   "cell_type": "code",
   "execution_count": 198,
   "id": "eafb8141-d705-460d-98a4-36f3c72c7e46",
   "metadata": {},
   "outputs": [
    {
     "data": {
      "text/plain": [
       "[<matplotlib.lines.Line2D at 0x7f615c78edd0>]"
      ]
     },
     "execution_count": 198,
     "metadata": {},
     "output_type": "execute_result"
    },
    {
     "data": {
      "image/png": "[encoded data removed]",
      "text/plain": [
       "<Figure size 640x480 with 1 Axes>"
      ]
     },
     "metadata": {},
     "output_type": "display_data"
    }
   ],
   "source": [
    "sns.scatterplot(x=x,y=y)\n",
    "\n",
    "line = cof[0][0] + cof[1][0] * x\n",
    "\n",
    "plt.plot(x,line)"
   ]
  },
  {
   "cell_type": "markdown",
   "id": "884a9bb5-e26d-409e-9343-409699a03d57",
   "metadata": {},
   "source": [
    "# C) Calcule o coeficiente de $R^{2}$ (coeficiente de correlação)"
   ]
  },
  {
   "cell_type": "markdown",
   "id": "b2b640d3-7f66-4e7c-ae08-83842ac9580b",
   "metadata": {},
   "source": [
    "O coeficiente de correlação é dado pela seguinte fórmula:\n",
    "$$\n",
    "r = \\frac{\\sum_{i=1}^{n} (x_{i}-\\bar{x})(y_{i}-\\bar{y})}{\\sqrt{\\sum_{i=1}^{n}(x_{i}-\\bar{x})^{2}}.\\sqrt{\\sum_{i=1}^{n}(y_{i}-\\bar{y})^{2}}}\n",
    "$$"
   ]
  },
  {
   "cell_type": "markdown",
   "id": "a0ed2f7e-5828-4a32-8ea6-517217dd21c0",
   "metadata": {},
   "source": [
    "Então, precisamos calcular a média dos vetores informados, e após isso, poderemos calcular tranquilamenteo coficiente."
   ]
  },
  {
   "cell_type": "code",
   "execution_count": 309,
   "id": "61e7e387-15dc-4f72-aec9-202fedf276ba",
   "metadata": {},
   "outputs": [],
   "source": [
    "def coeficiente_correlacao(x,y):\n",
    "    m_x = np.copy(np.mean(x))\n",
    "    m_y = np.copy(np.mean(y))\n",
    "    \n",
    "    upper = 0\n",
    "    \n",
    "    for i,j in zip(x,y):\n",
    "        upper += (i-m_x)*(j-m_y)\n",
    "        \n",
    "    b_x_s = 0\n",
    "    for i in x:\n",
    "        b_x_s += (i-m_x)**2\n",
    "        \n",
    "    b_y_s = 0\n",
    "    for i in y:\n",
    "        b_y_s += (i-m_y)**2\n",
    "    \n",
    "    return upper/math.sqrt(b_x_s*b_y_s)\n"
   ]
  },
  {
   "cell_type": "code",
   "execution_count": 310,
   "id": "a8f09ac4-65d4-4db2-b314-f6bb9a305202",
   "metadata": {},
   "outputs": [
    {
     "data": {
      "text/plain": [
       "0.9315150540811271"
      ]
     },
     "execution_count": 310,
     "metadata": {},
     "output_type": "execute_result"
    }
   ],
   "source": [
    "coeficiente_correlacao(x,y)"
   ]
  },
  {
   "cell_type": "markdown",
   "id": "0d299342-cf08-4d7d-9c3f-7a723b6dc1ae",
   "metadata": {},
   "source": [
    "## O coeficiente de correlação calculado é de 0.93, o que significa que há alta correlação entre os dados."
   ]
  }
 ],
 "metadata": {
  "kernelspec": {
   "display_name": "Python 3 (ipykernel)",
   "language": "python",
   "name": "python3"
  },
  "language_info": {
   "codemirror_mode": {
    "name": "ipython",
    "version": 3
   },
   "file_extension": ".py",
   "mimetype": "text/x-python",
   "name": "python",
   "nbconvert_exporter": "python",
   "pygments_lexer": "ipython3",
   "version": "3.10.7"
  }
 },
 "nbformat": 4,
 "nbformat_minor": 5
}
