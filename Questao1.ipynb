{
 "cells": [
  {
   "cell_type": "markdown",
   "id": "91f9ba87-1537-4324-bb9b-217f9593d5aa",
   "metadata": {},
   "source": [
    "# Questão 1"
   ]
  },
  {
   "cell_type": "code",
   "execution_count": 165,
   "id": "a0b5ad44-1358-4fc4-9057-f6d4897507f5",
   "metadata": {
    "jp-MarkdownHeadingCollapsed": true,
    "tags": []
   },
   "outputs": [],
   "source": [
    "import pandas as pd\n",
    "import numpy as np\n",
    "import seaborn as sns\n",
    "import matplotlib.pyplot as plt\n",
    "import math"
   ]
  },
  {
   "cell_type": "markdown",
   "id": "f28244a7-a528-4d71-8baf-5f480fc05e20",
   "metadata": {},
   "source": [
    "# Lista de Cáculo Numérico"
   ]
  },
  {
   "cell_type": "markdown",
   "id": "c2afa67f-af8f-4651-bf82-15ee16f1be21",
   "metadata": {},
   "source": [
    "Problema 1: Considere o seguinte sistema de equações lineares:\n",
    " $$\n",
    " \\left\\{\\begin{matrix}\n",
    "x_{1} + 2x_{2} - x_{3} + 0x_{4} = 1 &  &  & \\\\ \n",
    "2x_{1} - x_{2} + 0x_{3} + 0x_{4} = 1 &  &  & \\\\ \n",
    "0x_{1} - x_{2} + 2x_{3} - x_{4} = 1 &  &  & \\\\ \n",
    "0x_{1} + 0x_{2}-x_{3}+2x_{4} = 1 &  &  & \n",
    "\\end{matrix}\\right.\n",
    " $$"
   ]
  },
  {
   "cell_type": "markdown",
   "id": "c5190a4c-a4f8-4412-8f48-c22433b1b6af",
   "metadata": {},
   "source": [
    "## a: Mostre que esse sistema não satisfaz o critério de linhas"
   ]
  },
  {
   "cell_type": "markdown",
   "id": "6366d647-c79c-48b5-9033-9e3a243c4fd3",
   "metadata": {},
   "source": [
    "O critério de linhas diz que o módulo de cada elemento da diagonal principal, deve ser maior que a soma dos módulos dos elementos restantes da linha."
   ]
  },
  {
   "cell_type": "markdown",
   "id": "aa6ade88-16c9-41eb-a74f-a77487ffb1ce",
   "metadata": {},
   "source": [
    "Ex:\n",
    "    $$\n",
    "        \\left \\| a_{11} \\right \\| > \\left \\| a_{12} \\right \\| +\\left \\| a_{13} \\right \\|\n",
    "    $$"
   ]
  },
  {
   "cell_type": "markdown",
   "id": "36f78e79-2884-4458-a950-648dc38576bf",
   "metadata": {},
   "source": [
    "O critério das linhas pode ser descrito da seguinte forma:"
   ]
  },
  {
   "cell_type": "markdown",
   "id": "f072eb14-743d-4e7d-b196-7bdadf375b2f",
   "metadata": {},
   "source": [
    "$$\n",
    "\\alpha _{k} = \\frac{1}{\\left \\| a_{kk} \\right \\|}\\sum_{\\underset{j\\neq k}{j=1}}^{n}\\left \\| a_{kj} \\right \\|\n",
    "$$"
   ]
  },
  {
   "cell_type": "markdown",
   "id": "486662f2-40b5-4d30-adf2-86a0a7e37a18",
   "metadata": {},
   "source": [
    "Então será feito o seguinte: Será determinada uma função que receberá um array np, e tratará conforme a definição acima. Caso o coeficiente máximo encontrado seja menor que 1, verifica-se a convergência."
   ]
  },
  {
   "cell_type": "code",
   "execution_count": 166,
   "id": "8cb32823-c9a7-4a54-9531-96965b39ac6a",
   "metadata": {},
   "outputs": [],
   "source": [
    "def jacobi(arr):\n",
    "    termos = []\n",
    "    coeficientes = 0\n",
    "    arr = np.absolute(arr)\n",
    "    \n",
    "    for i in range(arr.shape[0]):\n",
    "        for j in range(arr.shape[0]):\n",
    "            if(j != i):\n",
    "                coeficientes += arr[i][j]\n",
    "            \n",
    "        termos.append(coeficientes * (1/arr[i][i]))\n",
    "        coeficientes=0\n",
    "            \n",
    "    return termos\n",
    "        \n",
    "    "
   ]
  },
  {
   "cell_type": "code",
   "execution_count": 167,
   "id": "eb01597a-631a-41ba-8db5-3631fc0af6fb",
   "metadata": {},
   "outputs": [
    {
     "data": {
      "text/plain": [
       "3.0"
      ]
     },
     "execution_count": 167,
     "metadata": {},
     "output_type": "execute_result"
    }
   ],
   "source": [
    "arr = np.array([[1,2,-1,0],[2,-1,0,0],[0,-1,2,-1],[0,0,-1,2]])\n",
    "np.max(jacobi(arr))"
   ]
  },
  {
   "cell_type": "markdown",
   "id": "cd8c130c-351d-4908-a987-841c217e4f08",
   "metadata": {},
   "source": [
    "Percebemos, pelo algoritmo, que o sistema não obedece o critérios de linhas pois o coeficiente máximo alcançado é 3, logo, não converge para Jacobi."
   ]
  },
  {
   "cell_type": "markdown",
   "id": "de6fa436-b65b-4c7c-bf2d-71ebb67da6b2",
   "metadata": {},
   "source": [
    "## b: Enuncie o critério de Sassenfeld e mostre que esse sistema não satisfaz o critério de Sassenfeld"
   ]
  },
  {
   "cell_type": "markdown",
   "id": "85ad554c-c7ab-431e-9ca3-d1db84ea1a91",
   "metadata": {},
   "source": [
    "O critério de Sassenfeld é muito parecido com o critério das linhas, porém, é multiplicado o coeficiente anterior pelo número adjacente ao diagonal anterior. O algorítmo será desenvolvido a partir da definição algébrica."
   ]
  },
  {
   "cell_type": "markdown",
   "id": "c9107a8b-97d0-4aa4-965c-fec11d764f5b",
   "metadata": {},
   "source": [
    "O critério de Sessenfeld pode ser descrito algebricamente da seguinte forma:"
   ]
  },
  {
   "cell_type": "markdown",
   "id": "dfd481d1-aa07-4b8d-b14a-c068e95a1212",
   "metadata": {},
   "source": [
    "$$\n",
    "\\beta _{k} = \\frac{1}{a_{kk}}\\left ( \\sum_{j=1}^{k-1}\\left \\| a_{kj} \\right \\| \\beta _{j}+\\sum_{j=k+1}^{n}\\left \\| a_{kj} \\right \\| \\right )\n",
    "$$"
   ]
  },
  {
   "cell_type": "code",
   "execution_count": 168,
   "id": "34fb7413-b52e-4e2a-93e0-45ea60504d3c",
   "metadata": {},
   "outputs": [],
   "source": [
    "def sassenfeld(arr):\n",
    "    termos = []\n",
    "    coeficientes = 0\n",
    "    arr = np.absolute(arr)\n",
    "    print(arr)\n",
    "    \n",
    "    for i in range(arr.shape[0]):\n",
    "        coeficientes = 0\n",
    "        if(i>1):\n",
    "            for j in range(i):\n",
    "                coeficientes += arr[i][j] * termos[j]\n",
    "            for j in range(i+1, arr.shape[0]):\n",
    "                coeficientes += arr[i][j]\n",
    "        elif(i == 1):\n",
    "            coeficientes += arr[i][0] * termos[0]\n",
    "            for j in range(i+1, arr.shape[0]):\n",
    "                coeficientes += arr[i][j]\n",
    "        elif(i==0):\n",
    "            for j in range(i+1, arr.shape[0]):\n",
    "                coeficientes += arr[i][j]\n",
    "        termos.append(coeficientes * (1/arr[i][i]))\n",
    "            \n",
    "            \n",
    "    return termos\n",
    "   "
   ]
  },
  {
   "cell_type": "code",
   "execution_count": 169,
   "id": "32929e3c-1ee8-4954-9ab4-849ac1d1a453",
   "metadata": {},
   "outputs": [
    {
     "name": "stdout",
     "output_type": "stream",
     "text": [
      "[[1 2 1 0]\n",
      " [2 1 0 0]\n",
      " [0 1 2 1]\n",
      " [0 0 1 2]]\n"
     ]
    },
    {
     "data": {
      "text/plain": [
       "[3.0, 6.0, 3.5, 1.75]"
      ]
     },
     "execution_count": 169,
     "metadata": {},
     "output_type": "execute_result"
    }
   ],
   "source": [
    "arr = np.array([[1,2,-1,0],[2,-1,0,0],[0,-1,2,-1],[0,0,-1,2]])\n",
    "sassenfeld(arr)"
   ]
  },
  {
   "cell_type": "markdown",
   "id": "b37e9741-28b6-41f7-95a1-ef5e210b294e",
   "metadata": {},
   "source": [
    "Percebe-se que o sistema, em sua forma atual, não satisfaz o critério de Sassenfeld pois o máximo é 6, que é maior que 1"
   ]
  },
  {
   "cell_type": "markdown",
   "id": "8b07025f-a5a8-4228-b58d-c9b4fa79d6da",
   "metadata": {},
   "source": [
    "## c: O que se pode afirmar sobre a convergência dos métodos de Gauss-Jacobi e Gauss-seidel, quando aplicados a este sistema?"
   ]
  },
  {
   "cell_type": "markdown",
   "id": "9cb14dee-5e92-474f-b86b-b4788fe604ff",
   "metadata": {},
   "source": [
    "Pode-se afirmar que o sistema não satisfaz nenhum dos critérios"
   ]
  },
  {
   "cell_type": "markdown",
   "id": "773117c9-2926-4368-80c6-20f43ebaa714",
   "metadata": {},
   "source": [
    "## d: Mostre que o sistema obtido permutando-se as duas primeiras equações satisfaz o critério de Sassenfeld"
   ]
  },
  {
   "cell_type": "code",
   "execution_count": 170,
   "id": "771277fe-5cdd-4e61-ab34-e9ed8f539c6c",
   "metadata": {},
   "outputs": [
    {
     "name": "stdout",
     "output_type": "stream",
     "text": [
      "[[2 1 0 0]\n",
      " [1 2 1 0]\n",
      " [0 1 2 1]\n",
      " [0 0 1 2]]\n"
     ]
    },
    {
     "data": {
      "text/plain": [
       "[0.5, 0.75, 0.875, 0.4375]"
      ]
     },
     "execution_count": 170,
     "metadata": {},
     "output_type": "execute_result"
    }
   ],
   "source": [
    "arr = np.array([[2,-1,0,0],[1,2,-1,0],[0,-1,2,-1],[0,0,-1,2]])\n",
    "sassenfeld(arr)"
   ]
  },
  {
   "cell_type": "markdown",
   "id": "76de06e7-6efb-498d-bdd8-a17e9e8c8d3f",
   "metadata": {},
   "source": [
    "Realmente satisfaz, pois o máximo é 0.875, que é menor que 1"
   ]
  },
  {
   "cell_type": "markdown",
   "id": "d0972afe-4a51-4529-9922-e989c0acf6ef",
   "metadata": {},
   "source": [
    "## e: Usando o método de Gauss-Seidel, determine a solução aproximada do sistema, com a permutação sugerida no item anterior e erro = 0.001"
   ]
  },
  {
   "cell_type": "markdown",
   "id": "be62176b-d473-414d-8fa0-bed54c88d2e8",
   "metadata": {},
   "source": [
    "Teremos que fazer uma função que recebe nosso array np, para que possa ser aplicado o método de Gayuss-Seidel."
   ]
  },
  {
   "cell_type": "markdown",
   "id": "95fa454f-cda2-4370-823e-e43da37a6f56",
   "metadata": {},
   "source": [
    "O método de Gauss-Seidel pode ser escrito algebricamente da seguinte forma:"
   ]
  },
  {
   "cell_type": "markdown",
   "id": "d4c23607-e429-461f-8cfd-33a030ca4957",
   "metadata": {},
   "source": [
    "$$\n",
    "x^{k+1} = Tx^{k} + C\n",
    "$$\n",
    "onde\n",
    "$$\n",
    "T = -L^{-1}_{*}U\n",
    "$$\n",
    "e\n",
    "$$\n",
    "C = L^{-1}_{*}b\n",
    "$$"
   ]
  },
  {
   "cell_type": "markdown",
   "id": "0fdf3fe3-d25a-48d2-a6ed-fc1e7e3f03b3",
   "metadata": {},
   "source": [
    "Sabemos que $L_{*}$ é a matriz triangular inferior com a diagonal da matriz principal, e $U$ é a matriz triangular superior com a diagonal zerada."
   ]
  },
  {
   "cell_type": "code",
   "execution_count": 171,
   "id": "1fb2502a-a74a-472e-a27e-e5446cddf99f",
   "metadata": {},
   "outputs": [],
   "source": [
    "def gaussSeidel(arr,x,b):\n",
    "    \n",
    "    \n",
    "    #pegando matriz triangular inferior\n",
    "    l = np.copy(np.tril(arr))\n",
    "    \n",
    "    #pegando matriz triangular superior com diagonal zerada\n",
    "    r = np.copy(np.triu(arr))\n",
    "    np.fill_diagonal(r, 0)\n",
    "    \n",
    "    \n",
    "    #t corresponde a primeira parte da equação de gauss-seidel\n",
    "    t = np.copy(np.matmul(-np.linalg.inv(l),r))\n",
    "    \n",
    "    #c corresponde a segunda parte da equação de gauss-seidel\n",
    "    c = np.copy(np.matmul(np.linalg.inv(l),b))\n",
    "    \n",
    "    \n",
    "    x = np.matmul(t,x) + c\n",
    "    \n",
    "    return x\n"
   ]
  },
  {
   "cell_type": "code",
   "execution_count": 172,
   "id": "6ec9f929-83ab-4463-8843-baf2c5f1e4b4",
   "metadata": {},
   "outputs": [
    {
     "name": "stdout",
     "output_type": "stream",
     "text": [
      "[[0.90909089]\n",
      " [0.8181818 ]\n",
      " [1.54545452]\n",
      " [1.27272726]]\n",
      "\n",
      "[1.27272723]\n"
     ]
    }
   ],
   "source": [
    "arr = np.array([[2,-1,0,0],[1,2,-1,0],[0,-1,2,-1],[0,0,-1,2]])\n",
    "x = np.array([[0.5],[0.5],[0.5],[0.5]])\n",
    "b = np.array([[1],[1],[1],[1]])\n",
    "\n",
    "for i in range(20):\n",
    "    x = gaussSeidel(arr,x,b)\n",
    "print(x)\n",
    "\n",
    "result = x[0] + 2*x[1] - x[3]\n",
    "print('')\n",
    "print(result)"
   ]
  }
 ],
 "metadata": {
  "kernelspec": {
   "display_name": "Python 3 (ipykernel)",
   "language": "python",
   "name": "python3"
  },
  "language_info": {
   "codemirror_mode": {
    "name": "ipython",
    "version": 3
   },
   "file_extension": ".py",
   "mimetype": "text/x-python",
   "name": "python",
   "nbconvert_exporter": "python",
   "pygments_lexer": "ipython3",
   "version": "3.10.7"
  }
 },
 "nbformat": 4,
 "nbformat_minor": 5
}
