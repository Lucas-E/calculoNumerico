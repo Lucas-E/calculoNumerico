{
 "cells": [
  {
   "cell_type": "markdown",
   "id": "6cc47aee-7c67-4a67-9f40-b0be4bd8f685",
   "metadata": {},
   "source": [
    "# Questão 2"
   ]
  },
  {
   "cell_type": "code",
   "execution_count": 1,
   "id": "1ac63e1f-bf8c-4152-86c0-a1fe8f8c53d1",
   "metadata": {},
   "outputs": [],
   "source": [
    "import pandas as pd\n",
    "import numpy as np\n",
    "import seaborn as sns\n",
    "import matplotlib.pyplot as plt\n",
    "import math"
   ]
  },
  {
   "cell_type": "markdown",
   "id": "bb955885-ce38-4163-aefb-a70df3435b79",
   "metadata": {},
   "source": [
    "## 2) Um jogador de futebol americano está prestes a fazer um lançamento para outro jogador de seu time. O lançador tem uma altura de 1, 82 m e o outro jogador está 18, 2 m afastado. A expressão que descreve o movimento da bola é familiar equação da física que descreve o movimento do projétil:"
   ]
  },
  {
   "cell_type": "markdown",
   "id": "d2388ae5-79e3-4100-ba95-2bfea499c261",
   "metadata": {},
   "source": [
    "$$\n",
    "y = xtan(\\theta)-\\frac{1}{2}.\\frac{ {x^{2}}g }{ {v^{2}_{0}} {cos^{2}(\\theta)} } + h\n",
    "$$\n",
    "\n",
    "onde iremos isolar o y para que achemos o valor que zera a função, ficando: \n",
    "$$\n",
    "0 = xtan(\\theta)-\\frac{1}{2}.\\frac{ {x^{2}}g }{ {v^{2}_{0}} {cos^{2}(\\theta)} } + h - y\n",
    "$$"
   ]
  },
  {
   "cell_type": "markdown",
   "id": "9c813037-82be-45b2-8d92-cf0b13ce7793",
   "metadata": {},
   "source": [
    "onde x e y são as distâncias horizontal e vertical, respectivamente, g = $9.81 \\frac{m}{s^{2}}$ é a aceleração da gravidade. $v_{0}$ é a velocidade inicial da bola quando deixa a mão do lançador e θ é o ângulo que a bola faz com o eixo horizontal nesse mesmo instante. Para v0 = 15.2 m/s, x = 18, 2 m, h = 1, 82 m e y = 2, 1 m, determine o ângulo θ no qual o jogador lança a bola. Observação: o estudante não precisa saber física e nem dominar a teoria, basta substituir os valores e montar a função da qual queremos encontrar os zeros."
   ]
  },
  {
   "cell_type": "markdown",
   "id": "b9d86010-4789-486a-94ca-5bbf47ad54ab",
   "metadata": {},
   "source": [
    "A função em questão fica:\n",
    "\n",
    "$$\n",
    "f(\\theta) = 18.2tg(\\theta) - \\frac{14}{cos^{2}(\\theta)} - \\frac{28}{100}\n",
    "$$\n",
    "\n",
    "função que queremos encontrar o 0"
   ]
  },
  {
   "cell_type": "markdown",
   "id": "a07e4dfa-6d29-454a-a9c1-8da789589bc9",
   "metadata": {},
   "source": [
    "Por iteração podemos encontrar o valor aproximado de teta. Montaremos um arranjo com o numpy, indo de 0 até $2\\pi$, com passos pequenos de 0.0001 para melhor exatidão.\n",
    "Definiremos a função para podemos jogar os valores"
   ]
  },
  {
   "cell_type": "code",
   "execution_count": 173,
   "id": "8d8d958d-d915-4e9e-9775-8bc24a4eb658",
   "metadata": {},
   "outputs": [],
   "source": [
    "thetas = np.arange(0,2*np.pi, 0.0001)"
   ]
  },
  {
   "cell_type": "code",
   "execution_count": 174,
   "id": "46ae9ea0-0259-4fe1-928e-0139c0b4c03c",
   "metadata": {},
   "outputs": [],
   "source": [
    "def funcao(t,x,v,h,y,g):\n",
    "    first = x*np.tan(t)\n",
    "    second = ((x**2)*g)/(2 * (v**2) * ( np.cos(t)**2))\n",
    "    return first - second + h - y"
   ]
  },
  {
   "cell_type": "code",
   "execution_count": 175,
   "id": "583935f3-b340-4e3b-a2ce-853c543a04d7",
   "metadata": {},
   "outputs": [],
   "source": [
    "angulos = {}\n",
    "for i in thetas:\n",
    "    result = funcao(t = i, x=18.2, v=15.2, h=1.82, y=2.1, g=9.81)\n",
    "    if(math.floor(result) == 0 and result > 0):\n",
    "        angulos[i] = result"
   ]
  },
  {
   "cell_type": "code",
   "execution_count": 176,
   "id": "6e6aa596-e447-4d1b-8095-ba288990f74c",
   "metadata": {},
   "outputs": [
    {
     "data": {
      "text/plain": [
       "0.4616"
      ]
     },
     "execution_count": 176,
     "metadata": {},
     "output_type": "execute_result"
    }
   ],
   "source": [
    "min(angulos, key=angulos.get)"
   ]
  },
  {
   "cell_type": "code",
   "execution_count": 177,
   "id": "1aa9dd5e-fb17-476f-a6b8-448f807f5402",
   "metadata": {},
   "outputs": [
    {
     "data": {
      "text/plain": [
       "0.0010804747745178922"
      ]
     },
     "execution_count": 177,
     "metadata": {},
     "output_type": "execute_result"
    }
   ],
   "source": [
    "angulos[0.4616]"
   ]
  },
  {
   "cell_type": "markdown",
   "id": "6c034658-20b5-47e4-af6f-d175bb7d8240",
   "metadata": {},
   "source": [
    "A partir das iterações, descobrimos que o valor do ângulo é 0.4616."
   ]
  },
  {
   "cell_type": "markdown",
   "id": "723676d0-dd5f-4f38-9b89-9ccbe52f9110",
   "metadata": {},
   "source": [
    "## Aproximando o valor de $\\theta$ pelo método da bisseção"
   ]
  },
  {
   "cell_type": "markdown",
   "id": "896c43d6-ed39-40d9-b782-898302e3b602",
   "metadata": {},
   "source": [
    "O método da bisseção se aproveita do teorema de Bolzano, que é descrito da seguinte forma:\n",
    "\n",
    "Se f:[a,b] $\\: \\rightarrow \\: \\mathbb{R}$, $y = f(x)$ é uma função contínua tal que $f(a).f(b) < 0$, então $\\exists \\: x^{*} \\in (a,b)$ tal que $f(x^{*}) = 0$\n",
    "\n",
    "traduzindo: dentro do intervalo no intervalo [a,b], se $f(a).f(b) < 0$, existe um x dentro do intervalo que zera a função"
   ]
  },
  {
   "cell_type": "markdown",
   "id": "2145bf21-ea77-4088-9381-f3751c6bb9cc",
   "metadata": {},
   "source": [
    "A questão pede que encontremos um intervalo menor que 0.1 que satisfaça o que pedimos. Ou seja, a distância entre o mínimo do intervalo e o máximo do intervalo, deve ser menos que 0.1. Vamos tomar, então, os valores 0.43 e 0.5 como teste."
   ]
  },
  {
   "cell_type": "code",
   "execution_count": 178,
   "id": "b7761626-0e8b-4402-8076-da7236f0611a",
   "metadata": {},
   "outputs": [],
   "source": [
    "lower = 0.43\n",
    "highest = 0.5"
   ]
  },
  {
   "cell_type": "code",
   "execution_count": 179,
   "id": "9e3f9349-bc1f-4d4f-855e-822806627b09",
   "metadata": {},
   "outputs": [
    {
     "data": {
      "text/plain": [
       "0.07"
      ]
     },
     "execution_count": 179,
     "metadata": {},
     "output_type": "execute_result"
    }
   ],
   "source": [
    "highest-lower"
   ]
  },
  {
   "cell_type": "code",
   "execution_count": 180,
   "id": "795c6c14-4813-4358-842f-0b34eff729f4",
   "metadata": {},
   "outputs": [],
   "source": [
    "a = funcao(t = lower, x=18.2, v=15.2, h=1.82, y=2.1, g=9.81)\n",
    "b = funcao(t = highest, x=18.2, v=15.2, h=1.82, y=2.1, g=9.81)"
   ]
  },
  {
   "cell_type": "code",
   "execution_count": 181,
   "id": "d21ff871-ae4b-4b9a-9def-525a56d304d3",
   "metadata": {},
   "outputs": [
    {
     "data": {
      "text/plain": [
       "-0.23632394655500588"
      ]
     },
     "execution_count": 181,
     "metadata": {},
     "output_type": "execute_result"
    }
   ],
   "source": [
    "a*b"
   ]
  },
  {
   "cell_type": "markdown",
   "id": "5966014f-0adf-44fb-bf1c-ff135464dd7d",
   "metadata": {},
   "source": [
    "Como a * b, que são os resultados da nossa função para 0.43 e 0.5 resultaram em um número menor que 0, que é -0.2343, então dentro deste intervalo existe um número que zera nossa função."
   ]
  },
  {
   "cell_type": "markdown",
   "id": "ad365540-d54c-4972-a0d9-046c19364ac7",
   "metadata": {},
   "source": [
    "O método da bisseção, por sua vez, utiliza o ponto médio, iterando, para chegar no resultado. logo $x_{0} = \\frac{a+b}{2}$. Dentro do método da bisseção, temos a seguinte definição:\n",
    "se $f(a).f(x_{0}) < 0$ então $a = x_{0}$\n",
    "ou, caso $f(x_{0}).f(b) < 0$, então $b = x_{0}$"
   ]
  },
  {
   "cell_type": "code",
   "execution_count": 182,
   "id": "62850812-e0e5-49a1-b19a-4c3dbb649321",
   "metadata": {},
   "outputs": [],
   "source": [
    "def bissecao(a,b, func):\n",
    "    maximo = 0\n",
    "    for i in range(1000):\n",
    "        maximo = (a+b)/2\n",
    "        if(func(t = a, x=18.2, v=15.2, h=1.82, y=2.1, g=9.81) * func(t = maximo, x=18.2, v=15.2, h=1.82, y=2.1, g=9.81) < 0):\n",
    "            b = maximo\n",
    "        elif(func(t = maximo, x=18.2, v=15.2, h=1.82, y=2.1, g=9.81) * func(t = b, x=18.2, v=15.2, h=1.82, y=2.1, g=9.81) < 0):\n",
    "            a = maximo\n",
    "            \n",
    "    return maximo\n",
    "            "
   ]
  },
  {
   "cell_type": "code",
   "execution_count": 183,
   "id": "0f1ece64-9b70-4f09-a8aa-5c76fca6b7bd",
   "metadata": {},
   "outputs": [],
   "source": [
    "aproximacao = bissecao(lower, highest,funcao)"
   ]
  },
  {
   "cell_type": "code",
   "execution_count": 184,
   "id": "844d89a2-68a3-4f8e-a750-cea2da7cf532",
   "metadata": {},
   "outputs": [
    {
     "data": {
      "text/plain": [
       "0.46152269273644486"
      ]
     },
     "execution_count": 184,
     "metadata": {},
     "output_type": "execute_result"
    }
   ],
   "source": [
    "aproximacao"
   ]
  },
  {
   "cell_type": "code",
   "execution_count": 185,
   "id": "d3d416f3-d0cd-4fd6-bd3d-dbb65ba6e9a0",
   "metadata": {},
   "outputs": [
    {
     "data": {
      "text/plain": [
       "-0.0"
      ]
     },
     "execution_count": 185,
     "metadata": {},
     "output_type": "execute_result"
    }
   ],
   "source": [
    "round(funcao(t = aproximacao, x=18.2, v=15.2, h=1.82, y=2.1, g=9.81), 3)"
   ]
  },
  {
   "cell_type": "markdown",
   "id": "c9dd65c2-04dc-4ebe-9790-ba86e0da48f4",
   "metadata": {},
   "source": [
    "Percebemos então, que pela aproximação do método da bisseção, o resultado é 0.4615"
   ]
  },
  {
   "cell_type": "markdown",
   "id": "b58135cf-7979-45e5-95f0-dd61ebfbb089",
   "metadata": {},
   "source": [
    "## Aproximando o valor de $\\theta$ por Newton-Raphson"
   ]
  },
  {
   "cell_type": "markdown",
   "id": "554cb994-ccf1-4066-8334-009689b51085",
   "metadata": {},
   "source": [
    "O método de Newton-Rapshon é um pouco diferente, mas ainda é um método iterativo que utiliza derivadas.\n",
    "O método de Newton-Raphson e definido da seguinte forma:\n",
    "\n",
    "$$\n",
    "x^{(n+1)} = x^{(n)} - \\frac{f(x^{(n)})}{f'(x^{n})}\n",
    "$$\n",
    "\n",
    "A derivada de nossa função, ou $f'(x)$ é:\n",
    "\n",
    "$$\n",
    "f'(x) = xsec^{2}(\\theta) - \\frac{ x^{2} g sec^{2}(\\theta) tan^{2}(\\theta) }{v^{2}_{0}}\n",
    "$$"
   ]
  },
  {
   "cell_type": "code",
   "execution_count": 186,
   "id": "0fa3d74a-9f51-41d9-ae1a-6709c9a629cc",
   "metadata": {},
   "outputs": [],
   "source": [
    "def derivada(t,x,g,v):\n",
    "    first = x * (1/(np.cos(t)**2))\n",
    "    second = (x**2 * g * (1/(np.cos(t)**2))) * (np.tan(t)**2)/v**2\n",
    "    return first - second"
   ]
  },
  {
   "cell_type": "code",
   "execution_count": 187,
   "id": "586e89f0-cce5-4a1a-9040-8c8ac7eac4da",
   "metadata": {},
   "outputs": [],
   "source": [
    "def newton_raphson():\n",
    "    val = 0\n",
    "    for i in range(1000):\n",
    "        val = val - funcao(t = val, x=18.2, v=15.2, h=1.82, y=2.1, g=9.81)/derivada(t = val, x=18.2, v=15.2, g=9.81)\n",
    "    return val"
   ]
  },
  {
   "cell_type": "code",
   "execution_count": 188,
   "id": "183c7303-1e88-4ed4-ac02-dce974e85019",
   "metadata": {},
   "outputs": [
    {
     "data": {
      "text/plain": [
       "0.46152269273644486"
      ]
     },
     "execution_count": 188,
     "metadata": {},
     "output_type": "execute_result"
    }
   ],
   "source": [
    "newton_raphson()"
   ]
  },
  {
   "cell_type": "markdown",
   "id": "69002976-925d-4b38-8879-b097e23619a8",
   "metadata": {},
   "source": [
    "Pecebemos então que a resposta pelo Newton Raphson, que é 0.4615 bate com as demais."
   ]
  },
  {
   "cell_type": "markdown",
   "id": "50e24bbc-ebff-4ac4-97a3-85e7881dd82d",
   "metadata": {},
   "source": [
    "## Use a Posição Falsa para encontrar uma solução com erro menor que $10^{-4}$."
   ]
  },
  {
   "cell_type": "markdown",
   "id": "7b0fa6ea-e111-4f7e-9e2e-3ae95facc6bb",
   "metadata": {},
   "source": [
    "O método da Posição Falsa é uma modificação do método da bisseção.\n",
    "Como o método da bisseção converge de maneira lenta, faremos uma mudança no algorítmo.\n",
    "$$\n",
    "x_{n} = \\frac{af(b)-bf(a)}{f(b)-f(a)}\n",
    "$$\n",
    "Assim como no método da bisseção, temos que ter $f(a)f(b) < 0$ para que a resposta esteja no intervalo, e temos a mesma relação:\n",
    "$$\n",
    "Se \\: f(a)f(x_{n}) < 0 \\: entao\\: a = x_{n}\n",
    "\\\\\n",
    "ou \\: se f(b)f(x_{n}) < 0 \\: entao \\: b = x_{n}\n",
    "$$"
   ]
  },
  {
   "cell_type": "code",
   "execution_count": 189,
   "id": "95cb4895-fdc2-4e47-8181-c23dc15e1730",
   "metadata": {},
   "outputs": [],
   "source": [
    "def posicao_falsa(a,b, func):\n",
    "    resultado = 0\n",
    "    for i in range(1000):\n",
    "        resultado = (a*func(t = b, x=18.2, v=15.2, h=1.82, y=2.1, g=9.81) - b*func(t = a, x=18.2, v=15.2, h=1.82, y=2.1, g=9.81))/(func(t = b, x=18.2, v=15.2, h=1.82, y=2.1, g=9.81) - func(t = a, x=18.2, v=15.2, h=1.82, y=2.1, g=9.81))\n",
    "        if(func(t = a, x=18.2, v=15.2, h=1.82, y=2.1, g=9.81) * func(t = resultado, x=18.2, v=15.2, h=1.82, y=2.1, g=9.81) < 0):\n",
    "            b = resultado\n",
    "        elif(func(t = resultado, x=18.2, v=15.2, h=1.82, y=2.1, g=9.81) * func(t = b, x=18.2, v=15.2, h=1.82, y=2.1, g=9.81) < 0):\n",
    "            a = resultado\n",
    "        \n",
    "    return resultado"
   ]
  },
  {
   "cell_type": "code",
   "execution_count": 190,
   "id": "670d3e55-23a9-4681-a7b0-9bbc68e4ea9f",
   "metadata": {},
   "outputs": [
    {
     "data": {
      "text/plain": [
       "0.46152269273644486"
      ]
     },
     "execution_count": 190,
     "metadata": {},
     "output_type": "execute_result"
    }
   ],
   "source": [
    "posicao_falsa(0.43, 0.5, funcao)"
   ]
  },
  {
   "cell_type": "markdown",
   "id": "ba526fd9-271b-4556-af5d-5ec6efcb5f1b",
   "metadata": {},
   "source": [
    "Percebemos, então que todos os resultados batem. Logo, nosso $\\theta$ é 0.46152269273644486"
   ]
  },
  {
   "cell_type": "code",
   "execution_count": 203,
   "id": "46d38cdc-50b1-45d5-9b71-492b9cdd0340",
   "metadata": {},
   "outputs": [],
   "source": [
    "T = 0.46152269273644486"
   ]
  },
  {
   "cell_type": "markdown",
   "id": "4df48504-c155-4f2b-b538-0530ff2aa26f",
   "metadata": {},
   "source": [
    "# a) Use a bisseção para encontrar um intervalo menor que 0.1 que contenha a raiz da equação."
   ]
  },
  {
   "cell_type": "code",
   "execution_count": 202,
   "id": "fa5621af-8800-41a8-8739-0001ca94d172",
   "metadata": {},
   "outputs": [],
   "source": [
    "def funcao_x(t,x,v,h,g):\n",
    "    first = x*np.tan(t)\n",
    "    second = ((x**2)*g)/(2 * (v**2) * ( np.cos(t)**2))\n",
    "    return first - second + h"
   ]
  },
  {
   "cell_type": "code",
   "execution_count": 226,
   "id": "174d471e-9bb5-424f-97f3-05d937eed2f3",
   "metadata": {},
   "outputs": [],
   "source": [
    "a = funcao_x(T,x=-3.2 ,v=15.2,h=1.82,g=9.81)"
   ]
  },
  {
   "cell_type": "code",
   "execution_count": 225,
   "id": "c33a3c08-f85e-4918-9782-bfdca6babf4c",
   "metadata": {},
   "outputs": [],
   "source": [
    "b = funcao_x(T,x=-3.1 ,v=15.2,h=1.82,g=9.81)"
   ]
  },
  {
   "cell_type": "code",
   "execution_count": 227,
   "id": "d2facc33-fd0a-43f9-a152-725e93052758",
   "metadata": {},
   "outputs": [
    {
     "data": {
      "text/plain": [
       "-0.0010131516205250624"
      ]
     },
     "execution_count": 227,
     "metadata": {},
     "output_type": "execute_result"
    }
   ],
   "source": [
    "a*b"
   ]
  },
  {
   "cell_type": "code",
   "execution_count": 215,
   "id": "c6f65232-1821-4d3c-a6a4-e31a2ff69024",
   "metadata": {},
   "outputs": [],
   "source": [
    "def bissecao_x(a,b, func):\n",
    "    maximo = 0\n",
    "    for i in range(1000):\n",
    "        maximo = (a+b)/2\n",
    "        if(func(t = T, x=a, v=15.2, h=1.82, g=9.81) * func(t = T, x=maximo, v=15.2, h=1.82, g=9.81) < 0):\n",
    "            b = maximo\n",
    "        elif(func(t = T, x=b, v=15.2, h=1.82, g=9.81) * func(t = T, x=maximo, v=15.2, h=1.82, g=9.81) < 0):\n",
    "            a = maximo\n",
    "            \n",
    "    return maximo"
   ]
  },
  {
   "cell_type": "code",
   "execution_count": 230,
   "id": "cd54b21b-b956-4c0a-9b8b-00595f38c0d7",
   "metadata": {},
   "outputs": [
    {
     "data": {
      "text/plain": [
       "-3.135833157438121"
      ]
     },
     "execution_count": 230,
     "metadata": {},
     "output_type": "execute_result"
    }
   ],
   "source": [
    "bissecao_x(-3.2,-3.1,funcao_x)"
   ]
  },
  {
   "cell_type": "markdown",
   "id": "008013f2-c6f8-48a9-96ed-1f4d50773688",
   "metadata": {},
   "source": [
    "# b) Use Newton-Rapshon para encontrar uma solução com erro menor que $10^{-4}$"
   ]
  },
  {
   "cell_type": "markdown",
   "id": "9fdf3cba-0e12-4614-9c40-972ce6cca1da",
   "metadata": {},
   "source": [
    "Derivada da função em relação a x:\n",
    "$$\n",
    "y = tan(\\theta) - \\frac{x.g}{v^{2}cos^{2}(\\theta)}\n",
    "$$"
   ]
  },
  {
   "cell_type": "code",
   "execution_count": 232,
   "id": "f08f0cf7-5848-407e-8734-a57e324c6c36",
   "metadata": {},
   "outputs": [],
   "source": [
    "def derivada_x(t, x,v,g):\n",
    "    result = np.tan(t) - (x*g)/((v**2) * (np.cos(t)**2))\n",
    "    return result"
   ]
  },
  {
   "cell_type": "code",
   "execution_count": 233,
   "id": "d32c22c2-5e95-4d6b-8b31-85d8de750f65",
   "metadata": {},
   "outputs": [],
   "source": [
    "def newton_raphson_x():\n",
    "    val = 0\n",
    "    for i in range(1000):\n",
    "        val = val - funcao_x(T,x=val ,v=15.2,h=1.82,g=9.81)/derivada_x(t = T, x=val, v=15.2, g=9.81)\n",
    "    return val"
   ]
  },
  {
   "cell_type": "code",
   "execution_count": 237,
   "id": "d3e68247-9466-49e9-befd-e685d988d59a",
   "metadata": {},
   "outputs": [
    {
     "data": {
      "text/plain": [
       "-3.1358331574381215"
      ]
     },
     "execution_count": 237,
     "metadata": {},
     "output_type": "execute_result"
    }
   ],
   "source": [
    "newton_raphson_x()"
   ]
  },
  {
   "cell_type": "markdown",
   "id": "7b3d0ad9-5e7a-4523-9765-fa268f68b54f",
   "metadata": {},
   "source": [
    "# C) Use a Posição Falsa para encontrar uma solução com erro menor que $10^{-4}$"
   ]
  },
  {
   "cell_type": "code",
   "execution_count": 235,
   "id": "826ab9f7-54db-4564-8880-3aa4485a135f",
   "metadata": {},
   "outputs": [],
   "source": [
    "def posicao_falsa_x(a,b, func):\n",
    "    resultado = 0\n",
    "    for i in range(1000):\n",
    "        resultado = (a*func(T,x=b ,v=15.2,h=1.82,g=9.81) - b*func(T,x=a ,v=15.2,h=1.82,g=9.81))/(func(T,x=b ,v=15.2,h=1.82,g=9.81) - func(T,x=a ,v=15.2,h=1.82,g=9.81))\n",
    "        if(func(T,x=b ,v=15.2,h=1.82,g=9.81) * func(T,x=resultado ,v=15.2,h=1.82,g=9.81) < 0):\n",
    "            b = resultado\n",
    "        elif(func(T,x=a ,v=15.2,h=1.82,g=9.81) * func(T,x=resultado ,v=15.2,h=1.82,g=9.81) < 0):\n",
    "            a = resultado\n",
    "        \n",
    "    return resultado"
   ]
  },
  {
   "cell_type": "code",
   "execution_count": 238,
   "id": "43f0b0a7-5df0-46eb-a1d8-178f8793dd21",
   "metadata": {},
   "outputs": [
    {
     "data": {
      "text/plain": [
       "-3.135833157438121"
      ]
     },
     "execution_count": 238,
     "metadata": {},
     "output_type": "execute_result"
    }
   ],
   "source": [
    "posicao_falsa_x(-3.2,-3.1,funcao_x)"
   ]
  }
 ],
 "metadata": {
  "kernelspec": {
   "display_name": "Python 3 (ipykernel)",
   "language": "python",
   "name": "python3"
  },
  "language_info": {
   "codemirror_mode": {
    "name": "ipython",
    "version": 3
   },
   "file_extension": ".py",
   "mimetype": "text/x-python",
   "name": "python",
   "nbconvert_exporter": "python",
   "pygments_lexer": "ipython3",
   "version": "3.10.7"
  }
 },
 "nbformat": 4,
 "nbformat_minor": 5
}
