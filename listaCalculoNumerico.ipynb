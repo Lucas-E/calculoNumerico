{
 "cells": [
  {
   "cell_type": "code",
   "execution_count": 162,
   "id": "1b7e5ee7-bf1d-4d2b-b6d9-c72b1e414d22",
   "metadata": {
    "jp-MarkdownHeadingCollapsed": true,
    "tags": []
   },
   "outputs": [],
   "source": [
    "import pandas as pd\n",
    "import numpy as np\n",
    "import seaborn as sns\n",
    "import matplotlib.pyplot as plt"
   ]
  },
  {
   "cell_type": "markdown",
   "id": "b3e272da-0d5c-49e0-a32c-a0741ba6ec1b",
   "metadata": {},
   "source": [
    "# Lista de Cáculo Numérico"
   ]
  },
  {
   "cell_type": "markdown",
   "id": "78158cc3-e482-432f-ae2d-a841847ca72e",
   "metadata": {},
   "source": [
    "Problema 1: Considere o seguinte sistema de equações lineares:\n",
    " $$\n",
    " \\left\\{\\begin{matrix}\n",
    "x_{1} + 2x_{2} - x_{3} + 0x_{4} = 1 &  &  & \\\\ \n",
    "2x_{1} - x_{2} + 0x_{3} + 0x_{4} = 1 &  &  & \\\\ \n",
    "0x_{1} - x_{2} + 2x_{3} - x_{4} = 1 &  &  & \\\\ \n",
    "0x_{1} + 0x_{2}-x_{3}+2x_{4} = 1 &  &  & \n",
    "\\end{matrix}\\right.\n",
    " $$"
   ]
  },
  {
   "cell_type": "markdown",
   "id": "a67e41ac-1063-4d29-8f3f-456a1eb41bfc",
   "metadata": {},
   "source": [
    "## a: Mostre que esse sistema não satisfaz o critério de linhas"
   ]
  },
  {
   "cell_type": "markdown",
   "id": "c1ad8d3b-5b94-4720-be7d-f3aa1a9fc00c",
   "metadata": {},
   "source": [
    "O critério de linhas diz que o módulo de cada elemento da diagonal principal, deve ser maior que a soma dos módulos dos elementos restantes da linha."
   ]
  },
  {
   "cell_type": "markdown",
   "id": "7a51a80b-df8c-44c4-99f7-f74c5bb74633",
   "metadata": {},
   "source": [
    "Ex:\n",
    "    $$\n",
    "        \\left \\| a_{11} \\right \\| > \\left \\| a_{12} \\right \\| +\\left \\| a_{13} \\right \\|\n",
    "    $$"
   ]
  },
  {
   "cell_type": "markdown",
   "id": "be940fa4-6e6b-4dad-b92d-630520031681",
   "metadata": {},
   "source": [
    "O critério das linhas pode ser descrito da seguinte forma:"
   ]
  },
  {
   "cell_type": "markdown",
   "id": "fc13e57b-5d8c-4ee7-a493-7dd7439ead13",
   "metadata": {},
   "source": [
    "$$\n",
    "\\alpha _{k} = \\frac{1}{\\left \\| a_{kk} \\right \\|}\\sum_{\\underset{j\\neq k}{j=1}}^{n}\\left \\| a_{kj} \\right \\|\n",
    "$$"
   ]
  },
  {
   "cell_type": "markdown",
   "id": "cdc16240-48b5-483d-abdc-a4d90021d98d",
   "metadata": {},
   "source": [
    "Então será feito o seguinte: Será determinada uma função que receberá um array np, e tratará conforme a definição acima. Caso o coeficiente máximo encontrado seja menor que 1, verifica-se a convergência."
   ]
  },
  {
   "cell_type": "code",
   "execution_count": 163,
   "id": "044cdbe3-2c7c-4bb7-a4f3-e2d2a4c89e45",
   "metadata": {},
   "outputs": [],
   "source": [
    "def jacobi(arr):\n",
    "    termos = []\n",
    "    coeficientes = 0\n",
    "    arr = np.absolute(arr)\n",
    "    \n",
    "    for i in range(arr.shape[0]):\n",
    "        for j in range(arr.shape[0]):\n",
    "            if(j != i):\n",
    "                coeficientes += arr[i][j]\n",
    "            \n",
    "        termos.append(coeficientes * (1/arr[i][i]))\n",
    "        coeficientes=0\n",
    "            \n",
    "    return termos\n",
    "        \n",
    "    "
   ]
  },
  {
   "cell_type": "code",
   "execution_count": 164,
   "id": "b1c5e9ae-fc7b-4b3b-a44d-f194de8c7a7f",
   "metadata": {},
   "outputs": [
    {
     "data": {
      "text/plain": [
       "3.0"
      ]
     },
     "execution_count": 164,
     "metadata": {},
     "output_type": "execute_result"
    }
   ],
   "source": [
    "arr = np.array([[1,2,-1,0],[2,-1,0,0],[0,-1,2,-1],[0,0,-1,2]])\n",
    "np.max(jacobi(arr))"
   ]
  },
  {
   "cell_type": "markdown",
   "id": "797365fc-084a-4262-81d4-1ebc36949079",
   "metadata": {},
   "source": [
    "Percebemos, pelo algoritmo, que o sistema não obedece o critérios de linhas pois o coeficiente máximo alcançado é 3, logo, não converge para Jacobi."
   ]
  },
  {
   "cell_type": "markdown",
   "id": "ad7a93f8-18fa-44e9-9e3b-a449020a918b",
   "metadata": {},
   "source": [
    "## b: Enuncie o critério de Sassenfeld e mostre que esse sistema não satisfaz o critério de Sassenfeld"
   ]
  },
  {
   "cell_type": "markdown",
   "id": "6bb02aa5-4235-4416-ac87-e66b1be1e55c",
   "metadata": {},
   "source": [
    "O critério de Sassenfeld é muito parecido com o critério das linhas, porém, é multiplicado o coeficiente anterior pelo número adjacente ao diagonal anterior. O algorítmo será desenvolvido a partir da definição algébrica."
   ]
  },
  {
   "cell_type": "markdown",
   "id": "cfde6952-be36-444e-82a4-ea85a7b5075c",
   "metadata": {},
   "source": [
    "O critério de Sessenfeld pode ser descrito algebricamente da seguinte forma:"
   ]
  },
  {
   "cell_type": "markdown",
   "id": "11bcb6bd-80a2-4c95-a6f4-1a691cb0e6bb",
   "metadata": {},
   "source": [
    "$$\n",
    "\\beta _{k} = \\frac{1}{a_{kk}}\\left ( \\sum_{j=1}^{k-1}\\left \\| a_{kj} \\right \\| \\beta _{j}+\\sum_{j=k+1}^{n}\\left \\| a_{kj} \\right \\| \\right )\n",
    "$$"
   ]
  },
  {
   "cell_type": "code",
   "execution_count": 165,
   "id": "2d49c24e-cf2f-4008-9f54-4ad3911eb6d1",
   "metadata": {},
   "outputs": [],
   "source": [
    "def sassenfeld(arr):\n",
    "    termos = []\n",
    "    coeficientes = 0\n",
    "    arr = np.absolute(arr)\n",
    "    print(arr)\n",
    "    \n",
    "    for i in range(arr.shape[0]):\n",
    "        coeficientes = 0\n",
    "        if(i>1):\n",
    "            for j in range(i):\n",
    "                coeficientes += arr[i][j] * termos[j]\n",
    "            for j in range(i+1, arr.shape[0]):\n",
    "                coeficientes += arr[i][j]\n",
    "        elif(i == 1):\n",
    "            coeficientes += arr[i][0] * termos[0]\n",
    "            for j in range(i+1, arr.shape[0]):\n",
    "                coeficientes += arr[i][j]\n",
    "        elif(i==0):\n",
    "            for j in range(i+1, arr.shape[0]):\n",
    "                coeficientes += arr[i][j]\n",
    "        termos.append(coeficientes * (1/arr[i][i]))\n",
    "            \n",
    "            \n",
    "    return termos\n",
    "   "
   ]
  },
  {
   "cell_type": "code",
   "execution_count": 166,
   "id": "792619c0-410b-45d4-9378-370d4421cea7",
   "metadata": {},
   "outputs": [
    {
     "name": "stdout",
     "output_type": "stream",
     "text": [
      "[[1 2 1 0]\n",
      " [2 1 0 0]\n",
      " [0 1 2 1]\n",
      " [0 0 1 2]]\n"
     ]
    },
    {
     "data": {
      "text/plain": [
       "[3.0, 6.0, 3.5, 1.75]"
      ]
     },
     "execution_count": 166,
     "metadata": {},
     "output_type": "execute_result"
    }
   ],
   "source": [
    "arr = np.array([[1,2,-1,0],[2,-1,0,0],[0,-1,2,-1],[0,0,-1,2]])\n",
    "sassenfeld(arr)"
   ]
  },
  {
   "cell_type": "markdown",
   "id": "0b241310-6655-44be-b8d8-3b569568de1f",
   "metadata": {},
   "source": [
    "Percebe-se que o sistema, em sua forma atual, não satisfaz o critério de Sassenfeld pois o máximo é 6, que é maior que 1"
   ]
  },
  {
   "cell_type": "markdown",
   "id": "62f6a116-b4b5-4ac7-9fb0-e57b9ce1640d",
   "metadata": {},
   "source": [
    "## c: O que se pode afirmar sobre a convergência dos métodos de Gauss-Jacobi e Gauss-seidel, quando aplicados a este sistema?"
   ]
  },
  {
   "cell_type": "markdown",
   "id": "71370f81-4a9a-4539-90b7-92a6bb69c597",
   "metadata": {},
   "source": [
    "Pode-se afirmar que o sistema não satisfaz nenhum dos critérios"
   ]
  },
  {
   "cell_type": "markdown",
   "id": "134dc393-0f42-4300-a2f5-bff6caf6c2cc",
   "metadata": {},
   "source": [
    "## d: Mostre que o sistema obtido permutando-se as duas primeiras equações satisfaz o critério de Sassenfeld"
   ]
  },
  {
   "cell_type": "code",
   "execution_count": 167,
   "id": "e90147ea-0f4b-4fc7-8f27-96b63f7001ee",
   "metadata": {},
   "outputs": [
    {
     "name": "stdout",
     "output_type": "stream",
     "text": [
      "[[2 1 0 0]\n",
      " [1 2 1 0]\n",
      " [0 1 2 1]\n",
      " [0 0 1 2]]\n"
     ]
    },
    {
     "data": {
      "text/plain": [
       "[0.5, 0.75, 0.875, 0.4375]"
      ]
     },
     "execution_count": 167,
     "metadata": {},
     "output_type": "execute_result"
    }
   ],
   "source": [
    "arr = np.array([[2,-1,0,0],[1,2,-1,0],[0,-1,2,-1],[0,0,-1,2]])\n",
    "sassenfeld(arr)"
   ]
  },
  {
   "cell_type": "markdown",
   "id": "92d77171-2907-452a-9a4e-04687a2ad05b",
   "metadata": {},
   "source": [
    "Realmente satisfaz, pois o máximo é 0.875, que é menor que 1"
   ]
  },
  {
   "cell_type": "markdown",
   "id": "1fbd2192-f9b2-4b6c-b1eb-a97151c99f85",
   "metadata": {},
   "source": [
    "## e: Usando o método de Gauss-Seidel, determine a solução aproximada do sistema, com a permutação sugerida no item anterior e erro = 0.001"
   ]
  },
  {
   "cell_type": "markdown",
   "id": "bc8ea8e8-cdc4-4571-9860-c45e29976887",
   "metadata": {},
   "source": [
    "Teremos que fazer uma função que recebe nosso array np, para que possa ser aplicado o método de Gayuss-Seidel."
   ]
  },
  {
   "cell_type": "markdown",
   "id": "ca493dd4-d2cd-45a6-8a05-a23dcc6b92d8",
   "metadata": {},
   "source": [
    "O método de Gauss-Seidel pode ser escrito algebricamente da seguinte forma:"
   ]
  },
  {
   "cell_type": "markdown",
   "id": "7274eef4-3d36-47ef-9abe-5b74b04dab11",
   "metadata": {},
   "source": [
    "$$\n",
    "x^{k+1} = Tx^{k} + C\n",
    "$$\n",
    "onde\n",
    "$$\n",
    "T = -L^{-1}_{*}U\n",
    "$$\n",
    "e\n",
    "$$\n",
    "C = L^{-1}_{*}b\n",
    "$$"
   ]
  },
  {
   "cell_type": "markdown",
   "id": "6d56384a-2096-4e57-9855-73901f0b92a7",
   "metadata": {},
   "source": [
    "Sabemos que $L_{*}$ é a matriz triangular inferior com a diagonal da matriz principal, e $U$ é a matriz triangular superior com a diagonal zerada."
   ]
  },
  {
   "cell_type": "code",
   "execution_count": 190,
   "id": "75659ea3-dcdc-4799-80e9-cb4ed53fb77c",
   "metadata": {},
   "outputs": [],
   "source": [
    "def gaussSeidel(arr,x,b):\n",
    "    \n",
    "    \n",
    "    #pegando matriz triangular inferior\n",
    "    l = np.copy(np.tril(arr))\n",
    "    \n",
    "    #pegando matriz triangular superior com diagonal zerada\n",
    "    r = np.copy(np.triu(arr))\n",
    "    np.fill_diagonal(r, 0)\n",
    "    \n",
    "    \n",
    "    #t corresponde a primeira parte da equação de gauss-seidel\n",
    "    t = np.copy(np.matmul(-np.linalg.inv(l),r))\n",
    "    \n",
    "    #c corresponde a segunda parte da equação de gauss-seidel\n",
    "    c = np.copy(np.matmul(np.linalg.inv(l),b))\n",
    "    \n",
    "    \n",
    "    x = np.matmul(t,x) + c\n",
    "    \n",
    "    return x\n"
   ]
  },
  {
   "cell_type": "code",
   "execution_count": 193,
   "id": "44364096-2e2e-4576-bbaf-12ea86ad9360",
   "metadata": {},
   "outputs": [
    {
     "name": "stdout",
     "output_type": "stream",
     "text": [
      "[[ 1.]\n",
      " [-1.]]\n"
     ]
    }
   ],
   "source": [
    "arr = np.array([[2,1],[-1,4]])\n",
    "x = np.array([[0],[0]])\n",
    "b = np.array([[1],[-5]])\n",
    "\n",
    "for i in range(10):\n",
    "    x = gaussSeidel(arr,x,b)\n",
    "print(x)"
   ]
  }
 ],
 "metadata": {
  "kernelspec": {
   "display_name": "Python 3 (ipykernel)",
   "language": "python",
   "name": "python3"
  },
  "language_info": {
   "codemirror_mode": {
    "name": "ipython",
    "version": 3
   },
   "file_extension": ".py",
   "mimetype": "text/x-python",
   "name": "python",
   "nbconvert_exporter": "python",
   "pygments_lexer": "ipython3",
   "version": "3.10.7"
  }
 },
 "nbformat": 4,
 "nbformat_minor": 5
}
