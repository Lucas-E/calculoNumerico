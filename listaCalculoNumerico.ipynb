{
 "cells": [
  {
   "cell_type": "code",
   "execution_count": 67,
   "id": "1b7e5ee7-bf1d-4d2b-b6d9-c72b1e414d22",
   "metadata": {
    "jp-MarkdownHeadingCollapsed": true,
    "tags": []
   },
   "outputs": [],
   "source": [
    "import pandas as pd\n",
    "import numpy as np\n",
    "import seaborn as sns\n",
    "import matplotlib.pyplot as plt\n",
    "import math"
   ]
  },
  {
   "cell_type": "markdown",
   "id": "b3e272da-0d5c-49e0-a32c-a0741ba6ec1b",
   "metadata": {},
   "source": [
    "# Lista de Cáculo Numérico"
   ]
  },
  {
   "cell_type": "markdown",
   "id": "78158cc3-e482-432f-ae2d-a841847ca72e",
   "metadata": {},
   "source": [
    "Problema 1: Considere o seguinte sistema de equações lineares:\n",
    " $$\n",
    " \\left\\{\\begin{matrix}\n",
    "x_{1} + 2x_{2} - x_{3} + 0x_{4} = 1 &  &  & \\\\ \n",
    "2x_{1} - x_{2} + 0x_{3} + 0x_{4} = 1 &  &  & \\\\ \n",
    "0x_{1} - x_{2} + 2x_{3} - x_{4} = 1 &  &  & \\\\ \n",
    "0x_{1} + 0x_{2}-x_{3}+2x_{4} = 1 &  &  & \n",
    "\\end{matrix}\\right.\n",
    " $$"
   ]
  },
  {
   "cell_type": "markdown",
   "id": "a67e41ac-1063-4d29-8f3f-456a1eb41bfc",
   "metadata": {},
   "source": [
    "## a: Mostre que esse sistema não satisfaz o critério de linhas"
   ]
  },
  {
   "cell_type": "markdown",
   "id": "c1ad8d3b-5b94-4720-be7d-f3aa1a9fc00c",
   "metadata": {},
   "source": [
    "O critério de linhas diz que o módulo de cada elemento da diagonal principal, deve ser maior que a soma dos módulos dos elementos restantes da linha."
   ]
  },
  {
   "cell_type": "markdown",
   "id": "7a51a80b-df8c-44c4-99f7-f74c5bb74633",
   "metadata": {},
   "source": [
    "Ex:\n",
    "    $$\n",
    "        \\left \\| a_{11} \\right \\| > \\left \\| a_{12} \\right \\| +\\left \\| a_{13} \\right \\|\n",
    "    $$"
   ]
  },
  {
   "cell_type": "markdown",
   "id": "be940fa4-6e6b-4dad-b92d-630520031681",
   "metadata": {},
   "source": [
    "O critério das linhas pode ser descrito da seguinte forma:"
   ]
  },
  {
   "cell_type": "markdown",
   "id": "fc13e57b-5d8c-4ee7-a493-7dd7439ead13",
   "metadata": {},
   "source": [
    "$$\n",
    "\\alpha _{k} = \\frac{1}{\\left \\| a_{kk} \\right \\|}\\sum_{\\underset{j\\neq k}{j=1}}^{n}\\left \\| a_{kj} \\right \\|\n",
    "$$"
   ]
  },
  {
   "cell_type": "markdown",
   "id": "cdc16240-48b5-483d-abdc-a4d90021d98d",
   "metadata": {},
   "source": [
    "Então será feito o seguinte: Será determinada uma função que receberá um array np, e tratará conforme a definição acima. Caso o coeficiente máximo encontrado seja menor que 1, verifica-se a convergência."
   ]
  },
  {
   "cell_type": "code",
   "execution_count": 68,
   "id": "044cdbe3-2c7c-4bb7-a4f3-e2d2a4c89e45",
   "metadata": {},
   "outputs": [],
   "source": [
    "def jacobi(arr):\n",
    "    termos = []\n",
    "    coeficientes = 0\n",
    "    arr = np.absolute(arr)\n",
    "    \n",
    "    for i in range(arr.shape[0]):\n",
    "        for j in range(arr.shape[0]):\n",
    "            if(j != i):\n",
    "                coeficientes += arr[i][j]\n",
    "            \n",
    "        termos.append(coeficientes * (1/arr[i][i]))\n",
    "        coeficientes=0\n",
    "            \n",
    "    return termos\n",
    "        \n",
    "    "
   ]
  },
  {
   "cell_type": "code",
   "execution_count": 69,
   "id": "b1c5e9ae-fc7b-4b3b-a44d-f194de8c7a7f",
   "metadata": {},
   "outputs": [
    {
     "data": {
      "text/plain": [
       "3.0"
      ]
     },
     "execution_count": 69,
     "metadata": {},
     "output_type": "execute_result"
    }
   ],
   "source": [
    "arr = np.array([[1,2,-1,0],[2,-1,0,0],[0,-1,2,-1],[0,0,-1,2]])\n",
    "np.max(jacobi(arr))"
   ]
  },
  {
   "cell_type": "markdown",
   "id": "797365fc-084a-4262-81d4-1ebc36949079",
   "metadata": {},
   "source": [
    "Percebemos, pelo algoritmo, que o sistema não obedece o critérios de linhas pois o coeficiente máximo alcançado é 3, logo, não converge para Jacobi."
   ]
  },
  {
   "cell_type": "markdown",
   "id": "ad7a93f8-18fa-44e9-9e3b-a449020a918b",
   "metadata": {},
   "source": [
    "## b: Enuncie o critério de Sassenfeld e mostre que esse sistema não satisfaz o critério de Sassenfeld"
   ]
  },
  {
   "cell_type": "markdown",
   "id": "6bb02aa5-4235-4416-ac87-e66b1be1e55c",
   "metadata": {},
   "source": [
    "O critério de Sassenfeld é muito parecido com o critério das linhas, porém, é multiplicado o coeficiente anterior pelo número adjacente ao diagonal anterior. O algorítmo será desenvolvido a partir da definição algébrica."
   ]
  },
  {
   "cell_type": "markdown",
   "id": "cfde6952-be36-444e-82a4-ea85a7b5075c",
   "metadata": {},
   "source": [
    "O critério de Sessenfeld pode ser descrito algebricamente da seguinte forma:"
   ]
  },
  {
   "cell_type": "markdown",
   "id": "11bcb6bd-80a2-4c95-a6f4-1a691cb0e6bb",
   "metadata": {},
   "source": [
    "$$\n",
    "\\beta _{k} = \\frac{1}{a_{kk}}\\left ( \\sum_{j=1}^{k-1}\\left \\| a_{kj} \\right \\| \\beta _{j}+\\sum_{j=k+1}^{n}\\left \\| a_{kj} \\right \\| \\right )\n",
    "$$"
   ]
  },
  {
   "cell_type": "code",
   "execution_count": 70,
   "id": "2d49c24e-cf2f-4008-9f54-4ad3911eb6d1",
   "metadata": {},
   "outputs": [],
   "source": [
    "def sassenfeld(arr):\n",
    "    termos = []\n",
    "    coeficientes = 0\n",
    "    arr = np.absolute(arr)\n",
    "    print(arr)\n",
    "    \n",
    "    for i in range(arr.shape[0]):\n",
    "        coeficientes = 0\n",
    "        if(i>1):\n",
    "            for j in range(i):\n",
    "                coeficientes += arr[i][j] * termos[j]\n",
    "            for j in range(i+1, arr.shape[0]):\n",
    "                coeficientes += arr[i][j]\n",
    "        elif(i == 1):\n",
    "            coeficientes += arr[i][0] * termos[0]\n",
    "            for j in range(i+1, arr.shape[0]):\n",
    "                coeficientes += arr[i][j]\n",
    "        elif(i==0):\n",
    "            for j in range(i+1, arr.shape[0]):\n",
    "                coeficientes += arr[i][j]\n",
    "        termos.append(coeficientes * (1/arr[i][i]))\n",
    "            \n",
    "            \n",
    "    return termos\n",
    "   "
   ]
  },
  {
   "cell_type": "code",
   "execution_count": 71,
   "id": "792619c0-410b-45d4-9378-370d4421cea7",
   "metadata": {},
   "outputs": [
    {
     "name": "stdout",
     "output_type": "stream",
     "text": [
      "[[1 2 1 0]\n",
      " [2 1 0 0]\n",
      " [0 1 2 1]\n",
      " [0 0 1 2]]\n"
     ]
    },
    {
     "data": {
      "text/plain": [
       "[3.0, 6.0, 3.5, 1.75]"
      ]
     },
     "execution_count": 71,
     "metadata": {},
     "output_type": "execute_result"
    }
   ],
   "source": [
    "arr = np.array([[1,2,-1,0],[2,-1,0,0],[0,-1,2,-1],[0,0,-1,2]])\n",
    "sassenfeld(arr)"
   ]
  },
  {
   "cell_type": "markdown",
   "id": "0b241310-6655-44be-b8d8-3b569568de1f",
   "metadata": {},
   "source": [
    "Percebe-se que o sistema, em sua forma atual, não satisfaz o critério de Sassenfeld pois o máximo é 6, que é maior que 1"
   ]
  },
  {
   "cell_type": "markdown",
   "id": "62f6a116-b4b5-4ac7-9fb0-e57b9ce1640d",
   "metadata": {},
   "source": [
    "## c: O que se pode afirmar sobre a convergência dos métodos de Gauss-Jacobi e Gauss-seidel, quando aplicados a este sistema?"
   ]
  },
  {
   "cell_type": "markdown",
   "id": "71370f81-4a9a-4539-90b7-92a6bb69c597",
   "metadata": {},
   "source": [
    "Pode-se afirmar que o sistema não satisfaz nenhum dos critérios"
   ]
  },
  {
   "cell_type": "markdown",
   "id": "134dc393-0f42-4300-a2f5-bff6caf6c2cc",
   "metadata": {},
   "source": [
    "## d: Mostre que o sistema obtido permutando-se as duas primeiras equações satisfaz o critério de Sassenfeld"
   ]
  },
  {
   "cell_type": "code",
   "execution_count": 72,
   "id": "e90147ea-0f4b-4fc7-8f27-96b63f7001ee",
   "metadata": {},
   "outputs": [
    {
     "name": "stdout",
     "output_type": "stream",
     "text": [
      "[[2 1 0 0]\n",
      " [1 2 1 0]\n",
      " [0 1 2 1]\n",
      " [0 0 1 2]]\n"
     ]
    },
    {
     "data": {
      "text/plain": [
       "[0.5, 0.75, 0.875, 0.4375]"
      ]
     },
     "execution_count": 72,
     "metadata": {},
     "output_type": "execute_result"
    }
   ],
   "source": [
    "arr = np.array([[2,-1,0,0],[1,2,-1,0],[0,-1,2,-1],[0,0,-1,2]])\n",
    "sassenfeld(arr)"
   ]
  },
  {
   "cell_type": "markdown",
   "id": "92d77171-2907-452a-9a4e-04687a2ad05b",
   "metadata": {},
   "source": [
    "Realmente satisfaz, pois o máximo é 0.875, que é menor que 1"
   ]
  },
  {
   "cell_type": "markdown",
   "id": "1fbd2192-f9b2-4b6c-b1eb-a97151c99f85",
   "metadata": {},
   "source": [
    "## e: Usando o método de Gauss-Seidel, determine a solução aproximada do sistema, com a permutação sugerida no item anterior e erro = 0.001"
   ]
  },
  {
   "cell_type": "markdown",
   "id": "bc8ea8e8-cdc4-4571-9860-c45e29976887",
   "metadata": {},
   "source": [
    "Teremos que fazer uma função que recebe nosso array np, para que possa ser aplicado o método de Gayuss-Seidel."
   ]
  },
  {
   "cell_type": "markdown",
   "id": "ca493dd4-d2cd-45a6-8a05-a23dcc6b92d8",
   "metadata": {},
   "source": [
    "O método de Gauss-Seidel pode ser escrito algebricamente da seguinte forma:"
   ]
  },
  {
   "cell_type": "markdown",
   "id": "7274eef4-3d36-47ef-9abe-5b74b04dab11",
   "metadata": {},
   "source": [
    "$$\n",
    "x^{k+1} = Tx^{k} + C\n",
    "$$\n",
    "onde\n",
    "$$\n",
    "T = -L^{-1}_{*}U\n",
    "$$\n",
    "e\n",
    "$$\n",
    "C = L^{-1}_{*}b\n",
    "$$"
   ]
  },
  {
   "cell_type": "markdown",
   "id": "6d56384a-2096-4e57-9855-73901f0b92a7",
   "metadata": {},
   "source": [
    "Sabemos que $L_{*}$ é a matriz triangular inferior com a diagonal da matriz principal, e $U$ é a matriz triangular superior com a diagonal zerada."
   ]
  },
  {
   "cell_type": "code",
   "execution_count": 73,
   "id": "75659ea3-dcdc-4799-80e9-cb4ed53fb77c",
   "metadata": {},
   "outputs": [],
   "source": [
    "def gaussSeidel(arr,x,b):\n",
    "    \n",
    "    \n",
    "    #pegando matriz triangular inferior\n",
    "    l = np.copy(np.tril(arr))\n",
    "    \n",
    "    #pegando matriz triangular superior com diagonal zerada\n",
    "    r = np.copy(np.triu(arr))\n",
    "    np.fill_diagonal(r, 0)\n",
    "    \n",
    "    \n",
    "    #t corresponde a primeira parte da equação de gauss-seidel\n",
    "    t = np.copy(np.matmul(-np.linalg.inv(l),r))\n",
    "    \n",
    "    #c corresponde a segunda parte da equação de gauss-seidel\n",
    "    c = np.copy(np.matmul(np.linalg.inv(l),b))\n",
    "    \n",
    "    \n",
    "    x = np.matmul(t,x) + c\n",
    "    \n",
    "    return x\n"
   ]
  },
  {
   "cell_type": "code",
   "execution_count": 74,
   "id": "44364096-2e2e-4576-bbaf-12ea86ad9360",
   "metadata": {},
   "outputs": [
    {
     "name": "stdout",
     "output_type": "stream",
     "text": [
      "[[0.90909089]\n",
      " [0.8181818 ]\n",
      " [1.54545452]\n",
      " [1.27272726]]\n",
      "\n",
      "[1.27272723]\n"
     ]
    }
   ],
   "source": [
    "arr = np.array([[2,-1,0,0],[1,2,-1,0],[0,-1,2,-1],[0,0,-1,2]])\n",
    "x = np.array([[0.5],[0.5],[0.5],[0.5]])\n",
    "b = np.array([[1],[1],[1],[1]])\n",
    "\n",
    "for i in range(20):\n",
    "    x = gaussSeidel(arr,x,b)\n",
    "print(x)\n",
    "\n",
    "result = x[0] + 2*x[1] - x[3]\n",
    "print('')\n",
    "print(result)"
   ]
  },
  {
   "cell_type": "markdown",
   "id": "ae104a7e-4bda-4e5f-8d89-8db49bea2ceb",
   "metadata": {},
   "source": [
    "## 2) Um jogador de futebol americano está prestes a fazer um lançamento para outro jogador de seu time. O lançador tem uma altura de 1, 82 m e o outro jogador está 18, 2 m afastado. A expressão que descreve o movimento da bola é familiar equação da física que descreve o movimento do projétil:"
   ]
  },
  {
   "cell_type": "markdown",
   "id": "fba4aee1-39e0-4088-9eff-db48c81bd98a",
   "metadata": {},
   "source": [
    "$$\n",
    "y = xtan(\\theta)-\\frac{1}{2}.\\frac{ {x^{2}}g }{ {v^{2}_{0}} {cos^{2}(\\theta)} } + h\n",
    "$$\n",
    "\n",
    "onde iremos isolar o y para que achemos o valor que zera a função, ficando: \n",
    "$$\n",
    "0 = xtan(\\theta)-\\frac{1}{2}.\\frac{ {x^{2}}g }{ {v^{2}_{0}} {cos^{2}(\\theta)} } + h - y\n",
    "$$"
   ]
  },
  {
   "cell_type": "markdown",
   "id": "99d8d87a-cb98-4d75-b350-a555e559f70a",
   "metadata": {},
   "source": [
    "onde x e y são as distâncias horizontal e vertical, respectivamente, g = $9.81 \\frac{m}{s^{2}}$ é a aceleração da gravidade. $v_{0}$ é a velocidade inicial da bola quando deixa a mão do lançador e θ é o ângulo que a bola faz com o eixo ho- rizontal nesse mesmo instante. Para v0 = 15.2 m/s, x = 18, 2 m, h = 1, 82 m e y = 2, 1 m, determine o ângulo θ no qual o jogador lança a bola. Observação: o estudante não precisa saber física e nem dominar a teoria, basta substituir os valores e montar a função da qual queremos encontrar os zeros."
   ]
  },
  {
   "cell_type": "markdown",
   "id": "e9500c9b-ef04-4d4b-a900-ef96e8082607",
   "metadata": {},
   "source": [
    "A função em questão fica:\n",
    "\n",
    "$$\n",
    "f(\\theta) = 18.2tg(\\theta) - \\frac{14}{cos^{2}(\\theta)} - \\frac{28}{100}\n",
    "$$\n",
    "\n",
    "função que queremos encontrar o 0"
   ]
  },
  {
   "cell_type": "markdown",
   "id": "2c0b4bd8-ce8a-4a10-871a-ba717f4d4e54",
   "metadata": {},
   "source": [
    "Por iteração podemos encontrar o valor aproximado de teta. Montaremos um arranjo com o numpy, indo de 0 até $2\\pi$, com passos pequenos de 0.0001 para melhor exatidão.\n",
    "Definiremos a função para podemos jogar os valores"
   ]
  },
  {
   "cell_type": "code",
   "execution_count": 114,
   "id": "0659d0a9-34be-4591-a1b5-fbc760ae67ef",
   "metadata": {},
   "outputs": [],
   "source": [
    "thetas = np.arange(0,2*np.pi, 0.0001)"
   ]
  },
  {
   "cell_type": "code",
   "execution_count": 115,
   "id": "4fcec0c6-5359-47f8-97d9-357d87195732",
   "metadata": {},
   "outputs": [],
   "source": [
    "def funcao(t,x,v,h,y,g):\n",
    "    first = x*np.tan(t)\n",
    "    second = ((x**2)*g)/(2 * (v**2) * ( np.cos(t)**2))\n",
    "    return first - second + h - y"
   ]
  },
  {
   "cell_type": "code",
   "execution_count": 203,
   "id": "c134f887-10a3-4de1-a935-04e790ed5b4e",
   "metadata": {},
   "outputs": [],
   "source": [
    "def funcao_teste(t,x,v,h,g):\n",
    "    first = x*np.tan(t)\n",
    "    second = ((x**2)*g)/(2 * (v**2) * ( np.cos(t)**2))\n",
    "    return first - second + h"
   ]
  },
  {
   "cell_type": "code",
   "execution_count": 222,
   "id": "3f2d7cd6-9eb5-448e-bec6-93b6ae5c951a",
   "metadata": {},
   "outputs": [],
   "source": [
    "angulos = {}\n",
    "for i in thetas:\n",
    "    result = funcao(t = i, x=18.2, v=15.2, h=1.82, y=2.1, g=9.81)\n",
    "    if(math.floor(result) == 0 and result > 0):\n",
    "        angulos[i] = result"
   ]
  },
  {
   "cell_type": "code",
   "execution_count": 223,
   "id": "1b01a000-3abf-42a3-8d60-85d4a360a491",
   "metadata": {},
   "outputs": [
    {
     "data": {
      "text/plain": [
       "0.4616"
      ]
     },
     "execution_count": 223,
     "metadata": {},
     "output_type": "execute_result"
    }
   ],
   "source": [
    "min(angulos, key=angulos.get)"
   ]
  },
  {
   "cell_type": "code",
   "execution_count": 224,
   "id": "66da6e42-8d57-4ddb-b879-3c671c6b3feb",
   "metadata": {},
   "outputs": [
    {
     "data": {
      "text/plain": [
       "0.0010804747745178922"
      ]
     },
     "execution_count": 224,
     "metadata": {},
     "output_type": "execute_result"
    }
   ],
   "source": [
    "angulos[0.4616]"
   ]
  },
  {
   "cell_type": "code",
   "execution_count": 220,
   "id": "c0ba6dde-1b77-4a67-a742-fa24b869e14d",
   "metadata": {},
   "outputs": [],
   "source": [
    "angulos_2 = {}\n",
    "for i in thetas:\n",
    "    result = funcao_teste(t = i, x=18.2, v=15.2, h=1.82, g=9.81)\n",
    "    if(math.floor(result) == 2 and result > 0):\n",
    "        angulos_2[i] = result"
   ]
  },
  {
   "cell_type": "code",
   "execution_count": 221,
   "id": "2d98053c-9bc6-4a74-8aaa-415473df0a70",
   "metadata": {},
   "outputs": [
    {
     "data": {
      "text/plain": [
       "1.1263"
      ]
     },
     "execution_count": 221,
     "metadata": {},
     "output_type": "execute_result"
    }
   ],
   "source": [
    "min(angulos_2, key = angulos_2.get)"
   ]
  },
  {
   "cell_type": "markdown",
   "id": "0f622cad-4fbb-4d3b-a2c7-17f8c79710fe",
   "metadata": {},
   "source": [
    "A partir das iterações, descobrimos que o valor do ângulo é 0.4616."
   ]
  },
  {
   "cell_type": "markdown",
   "id": "4b45bda8-e146-4f86-bf14-e53ce35a61ba",
   "metadata": {},
   "source": [
    "## a) Use a bisseção para encontrar um intervalo menor que 0.1 que contenha a raiz da equação."
   ]
  },
  {
   "cell_type": "markdown",
   "id": "975bef38-5766-4755-afbd-80845a0e1147",
   "metadata": {},
   "source": [
    "O método da bisseção se aproveita do teorema de Bolzano, que é descrito da seguinte forma:\n",
    "\n",
    "Se f:[a,b] $\\: \\rightarrow \\: \\mathbb{R}$, $y = f(x)$ é uma função contínua tal que $f(a).f(b) < 0$, então $\\exists \\: x^{*} \\in (a,b)$ tal que $f(x^{*}) = 0$\n",
    "\n",
    "traduzindo: dentro do intervalo no intervalo [a,b], se $f(a).f(b) < 0$, existe um x dentro do intervalo que zera a função"
   ]
  },
  {
   "cell_type": "markdown",
   "id": "51893284-9e3e-4312-bff6-56591d92fa08",
   "metadata": {},
   "source": [
    "A questão pede que encontremos um intervalo menor que 0.1 que satisfaça o que pedimos. Ou seja, a distância entre o mínimo do intervalo e o máximo do intervalo, deve ser menos que 0.1. Vamos tomar, então, os valores 0.43 e 0.5 como teste."
   ]
  },
  {
   "cell_type": "code",
   "execution_count": 172,
   "id": "2d2671ab-c935-42e5-b6ef-6bd1cf1983b2",
   "metadata": {},
   "outputs": [],
   "source": [
    "lower = 0.43\n",
    "highest = 0.5"
   ]
  },
  {
   "cell_type": "code",
   "execution_count": 173,
   "id": "4fb724f3-03ec-4cfa-9242-ba7b6d7fad58",
   "metadata": {},
   "outputs": [
    {
     "data": {
      "text/plain": [
       "0.07"
      ]
     },
     "execution_count": 173,
     "metadata": {},
     "output_type": "execute_result"
    }
   ],
   "source": [
    "highest-lower"
   ]
  },
  {
   "cell_type": "code",
   "execution_count": 174,
   "id": "e2b84c95-00b8-4cf4-b82c-695a082f38d6",
   "metadata": {},
   "outputs": [],
   "source": [
    "a = funcao(t = lower, x=18.2, v=15.2, h=1.82, y=2.1, g=9.81)\n",
    "b = funcao(t = highest, x=18.2, v=15.2, h=1.82, y=2.1, g=9.81)"
   ]
  },
  {
   "cell_type": "code",
   "execution_count": 175,
   "id": "d4f767ef-f397-4e6b-9157-5d7a36b8cff3",
   "metadata": {},
   "outputs": [
    {
     "data": {
      "text/plain": [
       "-0.23632394655500588"
      ]
     },
     "execution_count": 175,
     "metadata": {},
     "output_type": "execute_result"
    }
   ],
   "source": [
    "a*b"
   ]
  },
  {
   "cell_type": "markdown",
   "id": "1bdc80b8-fe9a-4a5b-be5a-2f1ae70226be",
   "metadata": {},
   "source": [
    "Como a * b, que são os resultados da nossa função para 0.43 e 0.5 resultaram em um número menor que 0, que é -0.2343, então dentro deste intervalo existe um número que zera nossa função."
   ]
  },
  {
   "cell_type": "markdown",
   "id": "63fe0e74-db15-450f-a501-6799c09124c7",
   "metadata": {},
   "source": [
    "O método da bisseção, por sua vez, utiliza o ponto médio, iterando, para chegar no resultado. logo $x_{0} = \\frac{a+b}{2}$. Dentro do método da bisseção, temos a seguinte definição:\n",
    "se $f(a).f(x_{0}) < 0$ então $a = x_{0}$\n",
    "ou, caso $f(x_{0}).f(b) < 0$, então $b = x_{0}$"
   ]
  },
  {
   "cell_type": "code",
   "execution_count": 193,
   "id": "7d927bc4-7e41-4d19-bca9-8f1a5570eb3b",
   "metadata": {},
   "outputs": [],
   "source": [
    "def bissecao(a,b, func):\n",
    "    maximo = 0\n",
    "    for i in range(1000):\n",
    "        maximo = (a+b)/2\n",
    "        if(func(t = a, x=18.2, v=15.2, h=1.82, y=2.1, g=9.81) * func(t = maximo, x=18.2, v=15.2, h=1.82, y=2.1, g=9.81) < 0):\n",
    "            b = maximo\n",
    "        elif(func(t = maximo, x=18.2, v=15.2, h=1.82, y=2.1, g=9.81) * func(t = b, x=18.2, v=15.2, h=1.82, y=2.1, g=9.81) < 0):\n",
    "            a = maximo\n",
    "            \n",
    "    return maximo\n",
    "            "
   ]
  },
  {
   "cell_type": "code",
   "execution_count": 196,
   "id": "16ada895-2558-4bb2-8e3a-06426d881ebc",
   "metadata": {},
   "outputs": [],
   "source": [
    "aproximacao = bissecao(lower, highest,funcao)"
   ]
  },
  {
   "cell_type": "code",
   "execution_count": 199,
   "id": "8cc0aac9-8f2e-4b4b-aa81-8fbfbbbf7252",
   "metadata": {},
   "outputs": [
    {
     "data": {
      "text/plain": [
       "-0.0"
      ]
     },
     "execution_count": 199,
     "metadata": {},
     "output_type": "execute_result"
    }
   ],
   "source": [
    "round(funcao(t = aproximacao, x=18.2, v=15.2, h=1.82, y=2.1, g=9.81), 2)"
   ]
  },
  {
   "cell_type": "code",
   "execution_count": 201,
   "id": "9b0aad89-83c4-4c76-866d-b238839700cf",
   "metadata": {},
   "outputs": [
    {
     "data": {
      "text/plain": [
       "0.46152269273644486"
      ]
     },
     "execution_count": 201,
     "metadata": {},
     "output_type": "execute_result"
    }
   ],
   "source": [
    "aproximacao"
   ]
  },
  {
   "cell_type": "markdown",
   "id": "1aefd911-cc9a-4755-9a2d-f0b788417508",
   "metadata": {},
   "source": [
    "Percebemos então, que pela aproximação do método da bisseção, o resultado é 0.4615"
   ]
  },
  {
   "cell_type": "markdown",
   "id": "f19bc784-a17d-4408-8281-30a59b9698ac",
   "metadata": {},
   "source": [
    "## b) Use Newton-Rapshon para encontrar uma solução com erro menor que $10^{-4}$."
   ]
  }
 ],
 "metadata": {
  "kernelspec": {
   "display_name": "Python 3 (ipykernel)",
   "language": "python",
   "name": "python3"
  },
  "language_info": {
   "codemirror_mode": {
    "name": "ipython",
    "version": 3
   },
   "file_extension": ".py",
   "mimetype": "text/x-python",
   "name": "python",
   "nbconvert_exporter": "python",
   "pygments_lexer": "ipython3",
   "version": "3.10.7"
  }
 },
 "nbformat": 4,
 "nbformat_minor": 5
}
